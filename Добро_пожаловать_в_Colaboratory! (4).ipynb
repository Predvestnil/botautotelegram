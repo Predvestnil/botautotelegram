{
  "nbformat": 4,
  "nbformat_minor": 0,
  "metadata": {
    "colab": {
      "name": "Добро_пожаловать_в_Colaboratory!.ipynb",
      "provenance": [],
      "collapsed_sections": []
    },
    "kernelspec": {
      "display_name": "Python 3",
      "name": "python3"
    }
  },
  "cells": [
    {
      "cell_type": "code",
      "metadata": {
        "colab": {
          "base_uri": "https://localhost:8080/"
        },
        "id": "JcfwOlPKOC-i",
        "outputId": "af1a9e23-dcc2-4be4-9250-8af472359245"
      },
      "source": [
        "pip install pytelegrambotapi"
      ],
      "execution_count": 36,
      "outputs": [
        {
          "output_type": "stream",
          "text": [
            "Requirement already satisfied: pytelegrambotapi in /usr/local/lib/python3.6/dist-packages (3.7.6)\n",
            "Requirement already satisfied: requests in /usr/local/lib/python3.6/dist-packages (from pytelegrambotapi) (2.23.0)\n",
            "Requirement already satisfied: certifi>=2017.4.17 in /usr/local/lib/python3.6/dist-packages (from requests->pytelegrambotapi) (2020.12.5)\n",
            "Requirement already satisfied: urllib3!=1.25.0,!=1.25.1,<1.26,>=1.21.1 in /usr/local/lib/python3.6/dist-packages (from requests->pytelegrambotapi) (1.24.3)\n",
            "Requirement already satisfied: idna<3,>=2.5 in /usr/local/lib/python3.6/dist-packages (from requests->pytelegrambotapi) (2.10)\n",
            "Requirement already satisfied: chardet<4,>=3.0.2 in /usr/local/lib/python3.6/dist-packages (from requests->pytelegrambotapi) (3.0.4)\n"
          ],
          "name": "stdout"
        }
      ]
    },
    {
      "cell_type": "code",
      "metadata": {
        "id": "tHmDOsS0r56C",
        "colab": {
          "resources": {
            "http://localhost:8080/nbextensions/google.colab/files.js": {
              "data": "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",
              "ok": true,
              "headers": [
                [
                  "content-type",
                  "application/javascript"
                ]
              ],
              "status": 200,
              "status_text": ""
            }
          },
          "base_uri": "https://localhost:8080/",
          "height": 71
        },
        "outputId": "548ff2d2-c30c-43d8-9449-8404fbbe46fe"
      },
      "source": [
        "from google.colab import files\r\n",
        "\r\n",
        "uploaded = files.upload()"
      ],
      "execution_count": 87,
      "outputs": [
        {
          "output_type": "display_data",
          "data": {
            "text/html": [
              "\n",
              "     <input type=\"file\" id=\"files-b99f45d7-7caf-4acd-9f6f-faa0320d35b8\" name=\"files[]\" multiple disabled\n",
              "        style=\"border:none\" />\n",
              "     <output id=\"result-b99f45d7-7caf-4acd-9f6f-faa0320d35b8\">\n",
              "      Upload widget is only available when the cell has been executed in the\n",
              "      current browser session. Please rerun this cell to enable.\n",
              "      </output>\n",
              "      <script src=\"/nbextensions/google.colab/files.js\"></script> "
            ],
            "text/plain": [
              "<IPython.core.display.HTML object>"
            ]
          },
          "metadata": {
            "tags": []
          }
        },
        {
          "output_type": "stream",
          "text": [
            "Saving 0.txt to 0 (5).txt\n"
          ],
          "name": "stdout"
        }
      ]
    },
    {
      "cell_type": "code",
      "metadata": {
        "colab": {
          "base_uri": "https://localhost:8080/"
        },
        "id": "Y9R7dixIjxdi",
        "outputId": "82f21994-9b77-4fb4-fce2-fd53b8d1d518"
      },
      "source": [
        "pip install XlsxWriter"
      ],
      "execution_count": 37,
      "outputs": [
        {
          "output_type": "stream",
          "text": [
            "Requirement already satisfied: XlsxWriter in /usr/local/lib/python3.6/dist-packages (1.3.7)\n"
          ],
          "name": "stdout"
        }
      ]
    },
    {
      "cell_type": "code",
      "metadata": {
        "colab": {
          "base_uri": "https://localhost:8080/"
        },
        "id": "YqhjOe1wZyYj",
        "outputId": "8e62845f-7155-4b18-9b9e-7549f8935322"
      },
      "source": [
        "print(open('0 (5).txt').readlines())"
      ],
      "execution_count": 88,
      "outputs": [
        {
          "output_type": "stream",
          "text": [
            "['cho-to:15;\\n', 'kak-to:16;\\n', 'tito:846']\n"
          ],
          "name": "stdout"
        }
      ]
    },
    {
      "cell_type": "code",
      "metadata": {
        "id": "YH2wCI8pZjeN"
      },
      "source": [
        "import pandas as pd\r\n",
        "import random"
      ],
      "execution_count": 39,
      "outputs": []
    },
    {
      "cell_type": "code",
      "metadata": {
        "colab": {
          "base_uri": "https://localhost:8080/"
        },
        "id": "_QPQZan5iJyM",
        "outputId": "f0429dd4-9fcf-4537-a70e-0ae96b760587"
      },
      "source": [
        "de = pd.ExcelFile('bot.xlsx')\r\n",
        "dl = de.parse('Лист1')\r\n",
        "print(dl)"
      ],
      "execution_count": 116,
      "outputs": [
        {
          "output_type": "stream",
          "text": [
            "   Unnamed: 0  Unnamed: 0.1          ID    USERNAME  NUMBEROFBUYING    SUMM\n",
            "0           0             0           1         grt            4654   45685\n",
            "1           1             1           2          ft              56  468654\n",
            "2           2             2           3       tyhyt               4     684\n",
            "3           3             3   900506196  nekto_inoi               0       0\n",
            "4           4             4   922328390     botskup               0       0\n",
            "5           5             5   755458530    Виктория               0       0\n",
            "6           6             6  1053539741      Кирилл               0       0\n"
          ],
          "name": "stdout"
        }
      ]
    },
    {
      "cell_type": "code",
      "metadata": {
        "id": "oQ6ct8t4nZ-7"
      },
      "source": [
        "import telebot\r\n",
        "import pandas as pd\r\n",
        "import requests\r\n",
        "import json\r\n",
        "from datetime import datetime\r\n",
        "\r\n",
        "\r\n",
        "bot = telebot.TeleBot('991410863:AAEDiQJtpqVRLoSTF-8IWTHqiYbrDe5kW_0')\r\n",
        "kolvo_tovara = 3\r\n",
        "\r\n",
        "mainmenu = telebot.types.ReplyKeyboardMarkup()\r\n",
        "mainmenu.row(telebot.types.InlineKeyboardButton('/start', callback_data='start'), telebot.types.InlineKeyboardButton('Мой профиль', callback_data='profile'), telebot.types.InlineKeyboardButton('ПРАВИЛА', callback_data='RULES'))\r\n",
        "mainmenu.row(telebot.types.InlineKeyboardButton('Наличие товара', callback_data='amount'))\r\n",
        "mainmenu.row(telebot.types.InlineKeyboardButton('Открыть каталог товаров', callback_data='catalog'))\r\n",
        "\r\n",
        "@bot.message_handler(commands=['start'])\r\n",
        "def start_message(message):\r\n",
        "    de = pd.ExcelFile('bot.xlsx')\r\n",
        "    dl = de.parse('Лист1')\r\n",
        "    if any(dl.ID == message.from_user.id):\r\n",
        "      pass\r\n",
        "    else:\r\n",
        "      writer = pd.ExcelWriter('bot.xlsx', engine='xlsxwriter')\r\n",
        "      dl.loc[len(dl)] = [len(dl),len(dl),str(message.from_user.id), str(message.from_user.first_name), 0, 0]\r\n",
        "      dl = dl.drop('Unnamed: 0',axis=1)\r\n",
        "      dl.to_excel(writer, 'Лист1')\r\n",
        "      writer.save()\r\n",
        "    an = str(message.from_user.username)\r\n",
        "    an = an + ', категории обновлены!\\nПрочтение FAQ - обязательно'\r\n",
        "    bot.send_message(message.chat.id, an, reply_markup=mainmenu)\r\n",
        "@bot.message_handler(content_types=['text'])\r\n",
        "def get_text_messages(message):\r\n",
        "    if message.text == 'ПРАВИЛА':\r\n",
        "      RULES = 'Какие-то правила'\r\n",
        "      bot.send_message(message.chat.id, RULES, reply_markup=mainmenu)\r\n",
        "    elif message.text == 'Мой профиль':\r\n",
        "      de = pd.ExcelFile('bot.xlsx')\r\n",
        "      dl = de.parse('Лист1')\r\n",
        "      amnt = dl[dl['ID']==message.from_user.id]['NUMBEROFBUYING'].values[0]\r\n",
        "      sum = dl[dl['ID']==message.from_user.id]['SUMM'].values[0]\r\n",
        "      prof = 'Ваш ID: ' + str(message.from_user.id) + '\\nВсего покупок: ' + str(amnt)+'\\nСумма покупок: '+str(sum)+' руб.'\r\n",
        "      bot.send_message(message.chat.id, prof, reply_markup=mainmenu)\r\n",
        "    elif message.text == 'Наличие товара':\r\n",
        "      de = pd.ExcelFile('Ships.xlsx')\r\n",
        "      dl = de.parse('Лист1')\r\n",
        "      sms = ''\r\n",
        "      for lin in range(kolvo_tovara):\r\n",
        "        sms = sms + str(dl.iloc[lin]['NAME'])+'//'+str(dl.iloc[lin]['COUNT'])+'шт.//'+str(dl.iloc[lin]['PRICE'])+' руб.\\n'\r\n",
        "      bot.send_message(message.chat.id, sms, reply_markup=mainmenu)\r\n",
        "    elif message.text == 'Открыть каталог товаров':\r\n",
        "      de = pd.ExcelFile('Ships.xlsx')\r\n",
        "      dl = de.parse('Лист1')\r\n",
        "      catalog = telebot.types.InlineKeyboardMarkup()\r\n",
        "      for lin in range(kolvo_tovara):\r\n",
        "        catalog.row(telebot.types.InlineKeyboardButton(str(dl.iloc[lin]['NAME']), callback_data=str(lin)))  \r\n",
        "      bot.send_message(message.chat.id, 'Выберите категорию!', reply_markup=catalog)\r\n",
        "@bot.callback_query_handler(func=lambda call: True)\r\n",
        "def callback_inline(call):\r\n",
        "  if call.data=='0' or call.data=='1' or call.data=='2':\r\n",
        "    currenttov = ''\r\n",
        "    key = telebot.types.InlineKeyboardMarkup()\r\n",
        "    key.row(telebot.types.InlineKeyboardButton('Я согласен!', callback_data='GOOD'))\r\n",
        "    key.row(telebot.types.InlineKeyboardButton('Не согласен!', callback_data='BAD'))\r\n",
        "    bot.send_message(call.message.chat.id, 'Для продолжения покупки вы обязаны принять правила.\\nПравила доступны в главном меню, кнопка \"Правила\"', reply_markup=key )\r\n",
        "  elif call.data == 'BAD':\r\n",
        "    currenttov = ''\r\n",
        "    currenttov = ''\r\n",
        "    de = pd.ExcelFile('Ships.xlsx')\r\n",
        "    dl = de.parse('Лист1')\r\n",
        "    catalog = telebot.types.InlineKeyboardMarkup()\r\n",
        "    for lin in range(kolvo_tovara):\r\n",
        "      catalog.row(telebot.types.InlineKeyboardButton(str(dl.iloc[lin]['NAME']), callback_data=str(lin)))  \r\n",
        "    bot.send_message(call.message.chat.id, 'Выберите категорию!', reply_markup=catalog)\r\n",
        "  elif call.data == 'GOOD':\r\n",
        "    currenttov = ''\r\n",
        "    de = pd.ExcelFile('Ships.xlsx')\r\n",
        "    dl = de.parse('Лист1')\r\n",
        "    catalog = telebot.types.InlineKeyboardMarkup()\r\n",
        "    for lin in range(kolvo_tovara):\r\n",
        "      catalog.row(telebot.types.InlineKeyboardButton(str(dl.iloc[lin]['NAME']), callback_data=str(-1*lin-1)))  \r\n",
        "    bot.send_message(call.message.chat.id, 'Выберите категорию повторно, чтобы избежать несчатных случаев!', reply_markup=catalog)\r\n",
        "  elif call.data == '-1':\r\n",
        "    rd = random.randint(10000,99999)\r\n",
        "    de = pd.ExcelFile('Ships.xlsx')\r\n",
        "    dl = de.parse('Лист1')\r\n",
        "    sms = 'ПОКУПКА ТОВАРА '+str(dl.iloc[0]['NAME'])+'\\n Количество: 1 шт.\\n ВРЕМЯ НА ОПЛАТУ ТОВАРА 10 минут\\n Оплата через Qiwi\\n Кошелёк +7.......\\nСумма: '+str(dl.iloc[0]['PRICE'])+'\\nКОММЕНТАРИЙ в QIWI: '+str(rd)+'\\nПлатежи без комментариев не принимаются!!!\\nВ комментарии указывать только цифры!\\n\\nПосле оплаты нажмите на кнопку ниже'\r\n",
        "    key = telebot.types.InlineKeyboardMarkup()\r\n",
        "    key.row(telebot.types.InlineKeyboardButton('Я оплатил!', callback_data='CHECK'+'0'+str(rd)))\r\n",
        "    key.row(telebot.types.InlineKeyboardButton('Отменить заказ!', callback_data='BAD'))\r\n",
        "    currenttov = '0'\r\n",
        "    bot.send_message(call.message.chat.id, sms, reply_markup=key )\r\n",
        "  elif call.data == '-2':\r\n",
        "    rd = random.randint(10000,99999)\r\n",
        "    de = pd.ExcelFile('Ships.xlsx')\r\n",
        "    dl = de.parse('Лист1')\r\n",
        "    sms = 'ПОКУПКА ТОВАРА '+str(dl.iloc[1]['NAME'])+'\\n Количество: 1 шт.\\n ВРЕМЯ НА ОПЛАТУ ТОВАРА 10 минут\\n Оплата через Qiwi\\n Кошелёк +7.......\\nСумма: '+str(dl.iloc[1]['PRICE'])+'\\nКОММЕНТАРИЙ в QIWI: '+str(rd)+'\\nПлатежи без комментариев не принимаются!!!\\nВ комментарии указывать только цифры!\\n\\nПосле оплаты нажмите на кнопку ниже'\r\n",
        "    key = telebot.types.InlineKeyboardMarkup()\r\n",
        "    key.row(telebot.types.InlineKeyboardButton('Я оплатил!', callback_data='CHECK'+'1'+str(rd)))\r\n",
        "    key.row(telebot.types.InlineKeyboardButton('Отменить заказ!', callback_data='BAD'))\r\n",
        "    currenttov = '1'\r\n",
        "    bot.send_message(call.message.chat.id, sms, reply_markup=key )\r\n",
        "  elif call.data == '-3':\r\n",
        "    rd = random.randint(10000,99999)\r\n",
        "    de = pd.ExcelFile('Ships.xlsx')\r\n",
        "    dl = de.parse('Лист1')\r\n",
        "    sms = 'ПОКУПКА ТОВАРА '+str(dl.iloc[2]['NAME'])+'\\n Количество: 1 шт.\\n ВРЕМЯ НА ОПЛАТУ ТОВАРА 10 минут\\n Оплата через Qiwi\\n Кошелёк +7.......\\nСумма: '+str(dl.iloc[2]['PRICE'])+'\\nКОММЕНТАРИЙ в QIWI: '+str(rd)+'\\nПлатежи без комментариев не принимаются!!!\\nВ комментарии указывать только цифры!\\n\\nПосле оплаты нажмите на кнопку ниже'\r\n",
        "    key = telebot.types.InlineKeyboardMarkup()\r\n",
        "    key.row(telebot.types.InlineKeyboardButton('Я оплатил!', callback_data='CHECK'+'2'+str(rd)))\r\n",
        "    key.row(telebot.types.InlineKeyboardButton('Отменить заказ!', callback_data='BAD'))\r\n",
        "    currenttov = '2'\r\n",
        "    bot.send_message(call.message.chat.id, sms, reply_markup=key )\r\n",
        "  elif call.data[0:5] == 'CHECK0':\r\n",
        "    now = datetime.now()\r\n",
        "    api_access_token = 'e08df1e7efea0c6f9f279bf57944bc1e' # токен\r\n",
        "    my_login = '+380502752671' # номер QIWI Кошелька\r\n",
        "    s = requests.Session()\r\n",
        "    s.headers['authorization'] = 'Bearer ' + api_access_token  \r\n",
        "    parameters = {'rows': 50}\r\n",
        "    timing = False\r\n",
        "    while ((datetime.now()-now).minute<1 and not(timing)):\r\n",
        "      h = s.get('https://edge.qiwi.com/payment-history/v2/persons/' + my_login + '/payments', params = parameters)\r\n",
        "      for line in h['data']:\r\n",
        "        if line['comment']==call.data[6:10]:\r\n",
        "          timing = True   \r\n",
        "    if timing:\r\n",
        "      de = pd.ExcelFile('Ships.xlsx')\r\n",
        "      dl = de.parse('Лист1')\r\n",
        "      if dl.iloc[0]['COUNT']>=1:\r\n",
        "        f = open('0 (5).txt','r+')\r\n",
        "        tovar = f.readline()\r\n",
        "        lines = f.readlines()\r\n",
        "        f.seek(0)\r\n",
        "        for line in lines:\r\n",
        "          if line!=tovar:\r\n",
        "            f.write(line)\r\n",
        "          f.truncate()\r\n",
        "        f.close()\r\n",
        "        bot.send_message(call.message.chat.id, tovar)\r\n",
        "        writer = pd.ExcelWriter('Ships.xlsx', engine='xlsxwriter')\r\n",
        "        dl.at[0, 'COUNT'] = dl.iloc[0]['COUNT']-1\r\n",
        "        dl.to_excel(writer, 'Лист1')\r\n",
        "        writer.save()\r\n",
        "      else:\r\n",
        "        bot.send_message(call.message.chat.id, 'Товар закончился')\r\n",
        "    elif (datetime.now()-now).minute>1:\r\n",
        "      bot.send_message(call.message.chat.id, 'Время истекло')\r\n",
        "  elif call.data[0:5] == 'CHECK1':\r\n",
        "    now = datetime.now()\r\n",
        "    api_access_token = 'e08df1e7efea0c6f9f279bf57944bc1e' # токен\r\n",
        "    my_login = '+380502752671' # номер QIWI Кошелька\r\n",
        "    s = requests.Session()\r\n",
        "    s.headers['authorization'] = 'Bearer ' + api_access_token  \r\n",
        "    parameters = {'rows': 50}\r\n",
        "    timing = False\r\n",
        "    while ((datetime.now()-now).minute<1 and not(timing)):\r\n",
        "      h = s.get('https://edge.qiwi.com/payment-history/v2/persons/' + my_login + '/payments', params = parameters)\r\n",
        "      for line in h['data']:\r\n",
        "        if line['comment']==call.data[6:10]:\r\n",
        "          timing = True   \r\n",
        "    if timing:\r\n",
        "      de = pd.ExcelFile('Ships.xlsx')\r\n",
        "      dl = de.parse('Лист1')\r\n",
        "      if dl.iloc[1]['COUNT']>=1:\r\n",
        "        f = open('1 (5).txt','r+')\r\n",
        "        tovar = f.readline()\r\n",
        "        lines = f.readlines()\r\n",
        "        f.seek(0)\r\n",
        "        for line in lines:\r\n",
        "          if line!=tovar:\r\n",
        "            f.write(line)\r\n",
        "          f.truncate()\r\n",
        "        f.close()\r\n",
        "        bot.send_message(call.message.chat.id, tovar)\r\n",
        "        writer = pd.ExcelWriter('Ships.xlsx', engine='xlsxwriter')\r\n",
        "        dl.at[1, 'COUNT'] = dl.iloc[1]['COUNT']-1\r\n",
        "        dl.to_excel(writer, 'Лист1')\r\n",
        "        writer.save()\r\n",
        "      else:\r\n",
        "        bot.send_message(call.message.chat.id, 'Товар закончился')\r\n",
        "    elif (datetime.now()-now).minute>1:\r\n",
        "      bot.send_message(call.message.chat.id, 'Время истекло')\r\n",
        "  elif call.data[0:5] == 'CHECK2':\r\n",
        "    now = datetime.now()\r\n",
        "    api_access_token = 'e08df1e7efea0c6f9f279bf57944bc1e' # токен\r\n",
        "    my_login = '+380502752671' # номер QIWI Кошелька\r\n",
        "    s = requests.Session()\r\n",
        "    s.headers['authorization'] = 'Bearer ' + api_access_token  \r\n",
        "    parameters = {'rows': 50}\r\n",
        "    timing = False\r\n",
        "    while ((datetime.now()-now).minute<1 and not(timing)):\r\n",
        "      h = s.get('https://edge.qiwi.com/payment-history/v2/persons/' + my_login + '/payments', params = parameters)\r\n",
        "      for line in h['data']:\r\n",
        "        if line['comment']==call.data[6:10]:\r\n",
        "          timing = True   \r\n",
        "    if timing:\r\n",
        "      de = pd.ExcelFile('Ships.xlsx')\r\n",
        "      dl = de.parse('Лист1')\r\n",
        "      if dl.iloc[2]['COUNT']>=1:\r\n",
        "        f = open('2 (5).txt','r+')\r\n",
        "        tovar = f.readline()\r\n",
        "        lines = f.readlines()\r\n",
        "        f.seek(0)\r\n",
        "        for line in lines:\r\n",
        "          if line!=tovar:\r\n",
        "            f.write(line)\r\n",
        "          f.truncate()\r\n",
        "        f.close()\r\n",
        "        bot.send_message(call.message.chat.id, tovar)\r\n",
        "        writer = pd.ExcelWriter('Ships.xlsx', engine='xlsxwriter')\r\n",
        "        dl.at[2, 'COUNT'] = dl.iloc[2]['COUNT']-1\r\n",
        "        dl.to_excel(writer, 'Лист1')\r\n",
        "        writer.save()\r\n",
        "      else:\r\n",
        "        bot.send_message(call.message.chat.id, 'Товар закончился')\r\n",
        "    elif (datetime.now()-now).minute>1:\r\n",
        "      bot.send_message(call.message.chat.id, 'Время истекло')\r\n",
        "      \r\n",
        "bot.polling()"
      ],
      "execution_count": 115,
      "outputs": []
    }
  ]
}